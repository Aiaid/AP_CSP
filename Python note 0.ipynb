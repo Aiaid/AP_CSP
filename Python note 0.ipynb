{
 "cells": [
  {
   "cell_type": "markdown",
   "metadata": {},
   "source": [
    "# Python note 0 #\n",
    "this note is adapter from https://www.tutorialspoint.com/python3/index.htm"
   ]
  },
  {
   "cell_type": "markdown",
   "metadata": {},
   "source": [
    "### Script Mode Programming###\n",
    "One way of programing is concider code you write is a script, which is a set of insturtion that will run one by one."
   ]
  },
  {
   "cell_type": "code",
   "execution_count": 1,
   "metadata": {},
   "outputs": [
    {
     "name": "stdout",
     "output_type": "stream",
     "text": [
      "Hello, Python!\n"
     ]
    }
   ],
   "source": [
    "print (\"Hello, Python!\")"
   ]
  },
  {
   "cell_type": "markdown",
   "metadata": {},
   "source": [
    "above code tell python print out(print on screen) \"Hello, Python!\""
   ]
  },
  {
   "cell_type": "markdown",
   "metadata": {},
   "source": [
    "### Python Identifiers\n",
    "A Python identifier is a name used to identify a variable, function, class, module or other object. An identifier starts with a letter A to Z or a to z or an underscore (_) followed by zero or more letters, underscores and digits (0 to 9).\n",
    "Python is a case sensitive programming language. Thus, \"Manpower\" and \"manpower\" are two different identifiers in Python.\n"
   ]
  },
  {
   "cell_type": "code",
   "execution_count": 2,
   "metadata": {},
   "outputs": [
    {
     "name": "stdout",
     "output_type": "stream",
     "text": [
      "abc is 10, Abc is 9, they are different\n"
     ]
    }
   ],
   "source": [
    "abc=10\n",
    "Abc=9\n",
    "print(\"abc is %d, Abc is %d, they are different\"%(abc,Abc))"
   ]
  },
  {
   "cell_type": "markdown",
   "metadata": {},
   "source": [
    "### Reserved Words\n",
    "The following list shows the Python keywords. These are reserved words and you cannot use them as constants or variables or any other identifier names. All the Python keywords contain lowercase letters only."
   ]
  },
  {
   "cell_type": "markdown",
   "metadata": {},
   "source": [
    "* and\t\n",
    "* exec\t\n",
    "* not\n",
    "* as\t\t\n",
    "* finally\t\t\t\n",
    "* or\n",
    "* assert\t\t\t\n",
    "* for\t\t\t\n",
    "* pass\n",
    "* break\t\t\t\n",
    "* from\t\t\t\n",
    "* print\n",
    "* class\t\t\t\n",
    "* global\t\t\t\n",
    "* raise\n",
    "* continue\t\t\t\n",
    "* if\t\t\t\n",
    "* return\n",
    "* def\t\t\t\n",
    "* import\t\t\t\n",
    "* try\n",
    "* del\t\t\t\n",
    "* in\t\t\t\n",
    "* while\n",
    "* elif\t\t\t\n",
    "* is\t\t\t\n",
    "* with\n",
    "* else\t\t\t\n",
    "* lambda\t\t\t\n",
    "* yield\n",
    "* except\t\t"
   ]
  },
  {
   "cell_type": "markdown",
   "metadata": {},
   "source": [
    "### Quotation in Python\n",
    "Python accepts single ('), double (\") and triple (''' or \"\"\") quotes to denote string literals, as long as the same type of quote starts and ends the string."
   ]
  },
  {
   "cell_type": "code",
   "execution_count": 6,
   "metadata": {},
   "outputs": [],
   "source": [
    "word = 'word'\n",
    "sentence = \"This is a sentence.\"   ## single ('), double (\") is basically same\n",
    "paragraph = \"\"\"This is a paragraph. It is\n",
    "made up of multiple lines and sentences.\"\"\""
   ]
  },
  {
   "cell_type": "markdown",
   "metadata": {},
   "source": [
    "### Comments in Python\n",
    "A hash sign (#) that is not inside a string literal is the beginning of a comment. All characters after the #, up to the end of the physical line, are part of the comment and the Python interpreter ignores them."
   ]
  },
  {
   "cell_type": "code",
   "execution_count": 3,
   "metadata": {},
   "outputs": [
    {
     "name": "stdout",
     "output_type": "stream",
     "text": [
      "but this will\n"
     ]
    }
   ],
   "source": [
    "# print(\"this will not execute\")\n",
    "print(\"but this will\")"
   ]
  },
  {
   "cell_type": "markdown",
   "metadata": {},
   "source": [
    "## Variables\n",
    "Variables are nothing but reserved memory locations to store values. It means that when you create a variable, you reserve some space in the memory.\n",
    "\n",
    "Based on the data type of a variable, the interpreter allocates memory and decides what can be stored in the reserved memory. Therefore, by assigning different data types to the variables, you can store integers, decimals or characters in these variables."
   ]
  },
  {
   "cell_type": "markdown",
   "metadata": {},
   "source": [
    "### Assigning Values to Variables\n",
    "Python variables do not need explicit declaration to reserve memory space. The declaration happens automatically when you assign a value to a variable. The equal sign (=) is used to assign values to variables.\n",
    "\n",
    "The operand to the left of the = operator is the name of the variable and the operand to the right of the = operator is the value stored in the variable. For example −"
   ]
  },
  {
   "cell_type": "code",
   "execution_count": 4,
   "metadata": {},
   "outputs": [
    {
     "name": "stdout",
     "output_type": "stream",
     "text": [
      "100\n",
      "True\n",
      "John\n"
     ]
    }
   ],
   "source": [
    "counter = 100          # An integer assignment\n",
    "is_red   = True       # A bool (True/False)\n",
    "name    = \"John\"       # A string \n",
    "\n",
    "\n",
    "print (counter)\n",
    "print (is_red)\n",
    "print (name)"
   ]
  },
  {
   "cell_type": "markdown",
   "metadata": {},
   "source": [
    "### Python Strings\n",
    "Strings in Python are identified as a contiguous set of characters represented in the quotation marks. Python allows either pair of single or double quotes. Subsets of strings can be taken using the slice operator ([ ] and [:] ) with indexes starting at 0 in the beginning of the string and working their way from -1 to the end.\n",
    "\n",
    "The plus (+) sign is the string concatenation operator and the asterisk (*) is the repetition operator. For example −"
   ]
  },
  {
   "cell_type": "code",
   "execution_count": 5,
   "metadata": {},
   "outputs": [
    {
     "name": "stdout",
     "output_type": "stream",
     "text": [
      "Hello World!\n",
      "H\n",
      "llo\n",
      "llo World!\n",
      "Hello World!Hello World!\n",
      "Hello World!TEST\n"
     ]
    }
   ],
   "source": [
    "string = 'Hello World!'\n",
    "\n",
    "print (string)          # Prints complete string\n",
    "print (string[0])       # Prints first character of the string\n",
    "print (string[2:5])     # Prints characters starting from 3rd to 5th\n",
    "print (string[2:])      # Prints string starting from 3rd character\n",
    "print (string * 2)      # Prints string two times\n",
    "print (string + \"TEST\") # Prints concatenated string"
   ]
  },
  {
   "cell_type": "markdown",
   "metadata": {},
   "source": [
    "### Python Arithmetic Operators"
   ]
  },
  {
   "cell_type": "code",
   "execution_count": 9,
   "metadata": {},
   "outputs": [
    {
     "name": "stdout",
     "output_type": "stream",
     "text": [
      "a+b=31\n",
      "a-b=-11\n",
      "a*b=210\n",
      "a/b=0.47619047619047616\n",
      "a%b=10\n",
      "a**b=1000\n",
      "a//c=3\n"
     ]
    }
   ],
   "source": [
    "a=10\n",
    "b=21\n",
    "c=3\n",
    "print(\"a+b=\"+ str(a+b))\n",
    "print(\"a-b=\"+ str(a-b))\n",
    "print(\"a*b=\"+ str(a*b))\n",
    "print(\"a/b=\"+ str(a/b))\n",
    "print(\"a%b=\"+ str(a%b))    #Modulus\n",
    "print(\"a**b=\"+ str(a**c))  #Exponent\n",
    "print(\"a//c=\"+ str(a//c))  #Floor Division"
   ]
  },
  {
   "cell_type": "markdown",
   "metadata": {},
   "source": [
    "### Python Comparison Operators\n",
    "These operators compare the values on either side of them and decide the relation among them. They are also called Relational operators."
   ]
  },
  {
   "cell_type": "code",
   "execution_count": null,
   "metadata": {},
   "outputs": [],
   "source": [
    "a=10\n",
    "b=21\n",
    "print(\"a==b? \"+ str(a==b)) #If the values of two operands are equal, then the condition becomes true.\n",
    "print(\"a!=b? \"+ str(a!=b)) #If values of two operands are not equal, then condition becomes true.\n",
    "print(\"a>b? \"+ str(a>b))\n",
    "print(\"a<b? \"+ str(a<b))\n",
    "print(\"a>=b? \"+ str(a>=b))\n",
    "print(\"a<=b? \"+ str(a<=b))"
   ]
  },
  {
   "cell_type": "markdown",
   "metadata": {},
   "source": [
    "### print and input\n",
    "print() and input() are base I/O function "
   ]
  },
  {
   "cell_type": "code",
   "execution_count": 2,
   "metadata": {},
   "outputs": [
    {
     "name": "stdout",
     "output_type": "stream",
     "text": [
      "your can print a int\n",
      "100\n",
      "your can print a bool\n",
      "True\n",
      "your can print a string \n",
      "John\n",
      "your can print them together \n",
      "100 True John\n"
     ]
    }
   ],
   "source": [
    "counter = 100          # An integer assignment\n",
    "is_red   = True       # A bool (True/False)\n",
    "name    = \"John\"       # A string \n",
    "\n",
    "print(\"your can print a int\")\n",
    "print(counter)\n",
    "print(\"your can print a bool\")\n",
    "print(is_red)\n",
    "print(\"your can print a string \")\n",
    "print(name)\n",
    "\n",
    "print(\"your can print them together \")\n",
    "print(counter,is_red,name) # using comma separate"
   ]
  },
  {
   "cell_type": "code",
   "execution_count": 4,
   "metadata": {},
   "outputs": [
    {
     "name": "stdout",
     "output_type": "stream",
     "text": [
      "enter your name:  anend\n",
      "now x is anend\n"
     ]
    }
   ],
   "source": [
    "x=input(\"Enter your name:  \")\n",
    "print(\"now x is\",x)"
   ]
  },
  {
   "cell_type": "markdown",
   "metadata": {},
   "source": [
    "input() funtcion displays the prompt ,the statement saying “Enter your name:  ”, and then waits for the user to take action. Once user press enter key, any thing user enter before enter key will be return to x as a string"
   ]
  },
  {
   "cell_type": "code",
   "execution_count": 7,
   "metadata": {},
   "outputs": [
    {
     "name": "stdout",
     "output_type": "stream",
     "text": [
      "Enter a int34\n",
      "Double of the intput is:  68\n"
     ]
    }
   ],
   "source": [
    "x=input(\"Enter a int\")\n",
    "print(\"Double of the intput is: \",int(x)*2)"
   ]
  },
  {
   "cell_type": "markdown",
   "metadata": {},
   "source": [
    "### Data Type Conversion\n",
    "Sometimes, you may need to perform conversions between the built-in types. To convert between types, you simply use the type-names as a function."
   ]
  },
  {
   "cell_type": "code",
   "execution_count": 31,
   "metadata": {},
   "outputs": [
    {
     "name": "stdout",
     "output_type": "stream",
     "text": [
      "n is a int :  100\n",
      "n*2= 200\n",
      "s is a string :  123\n",
      "s*2= 123123\n",
      "we can canver n to string,  100\n",
      "str(n)*2= 100100\n",
      "we can canver s to int,  123\n",
      "int(s)*2= 246\n",
      "int() can also use to conver binary to decimal\n",
      "110110 is  54  in decimal\n",
      "bin() can use to conver decimal to binary\n",
      "123 is  0b1111011  in binary\n",
      "\"0b\" in beginning of  0b1111011 mean follow digits is a binary\n"
     ]
    }
   ],
   "source": [
    "n=100 # this is a int\n",
    "print (\"n is a int : \",n)\n",
    "print (\"n*2=\",n*2)\n",
    "\n",
    "s='123'# this is a string\n",
    "print(\"s is a string : \",s)\n",
    "print (\"s*2=\",s*2)\n",
    "\n",
    "print(\"we can canver n to string, \",str(n))\n",
    "print(\"str(n)*2=\",str(n)*2)\n",
    "\n",
    "print(\"we can canver s to int, \",int(s))\n",
    "print(\"int(s)*2=\",int(s)*2)\n",
    "\n",
    "print(\"int() can also use to conver binary to decimal\")\n",
    "print(\"110110 is \",int(\"110110\",2),\" in decimal\")\n",
    "\n",
    "print(\"bin() can use to conver decimal to binary\")\n",
    "print(\"123 is \",bin(123),\" in binary\")\n",
    "print(\"\\\"0b\\\" in beginning of \",bin(123),\"mean follow digits is a binary\")"
   ]
  },
  {
   "cell_type": "markdown",
   "metadata": {},
   "source": [
    "# Some example"
   ]
  },
  {
   "cell_type": "code",
   "execution_count": 19,
   "metadata": {},
   "outputs": [
    {
     "name": "stdout",
     "output_type": "stream",
     "text": [
      "this problem will computer distance between two point\n",
      "what is x of point 11\n",
      "what is y of point 15\n",
      "what is x of point 26\n",
      "what is y of point 29\n",
      "the distance between ( 1 , 5 ),( 6 , 9 ) is  6.4031242374328485\n"
     ]
    }
   ],
   "source": [
    "print(\"this problem will computer distance between two point\")\n",
    "x1=input(\"enter x of point 1\")\n",
    "y1=input(\"enter is y of point 1\")\n",
    "x2=input(\"enter is x of point 2\")\n",
    "y2=input(\"enter is y of point 2\")\n",
    "d=((int(x1)-int(x2))**2+(int(y1)-int(y2))**2)**0.5\n",
    "print(\"the distance between (\",x1,',',y1,\"),(\",x2,',',y2,\") is \",d)"
   ]
  },
  {
   "cell_type": "code",
   "execution_count": 17,
   "metadata": {},
   "outputs": [
    {
     "name": "stdout",
     "output_type": "stream",
     "text": [
      "this problem will conver binary number to decimal\n",
      "enter binary digits10010001\n",
      "145\n"
     ]
    }
   ],
   "source": [
    "print(\"this problem will conver binary number to decimal\")\n",
    "b=input(\"enter binary digits\")\n",
    "print(int(b,2))"
   ]
  },
  {
   "cell_type": "code",
   "execution_count": 12,
   "metadata": {},
   "outputs": [
    {
     "name": "stdout",
     "output_type": "stream",
     "text": [
      "this problem will conver decimal number to binary\n",
      "enter decimal number87\n",
      "0b1010111\n",
      "1010111\n"
     ]
    }
   ],
   "source": [
    "print(\"this problem will conver decimal number to binary\")\n",
    "b=input(\"enter decimal number\")\n",
    "print(bin(int(b)))\n",
    "print(bin(int(b))[2:])"
   ]
  },
  {
   "cell_type": "code",
   "execution_count": 15,
   "metadata": {},
   "outputs": [
    {
     "name": "stdout",
     "output_type": "stream",
     "text": [
      "this problem will conver decimal number to two's complement representation\n",
      "enter decimal number-111\n",
      "enter number of bits for two's complement representation8\n",
      "[0, 1, 1, 0, 1, 1, 1, 1]\n",
      "[1, 0, 0, 1, 0, 0, 0, 0]\n",
      "10010001\n"
     ]
    }
   ],
   "source": [
    "## this one will be easy to understand after next week python note\n",
    "print(\"this problem will conver decimal number to two's complement representation\")\n",
    "b=input(\"enter decimal number\")\n",
    "n=input(\"enter number of bits for two's complement representation\")\n",
    "if int(b)>2**(int(n)-1)-1 or int(b)<-(2**(int(n)-1)):\n",
    "    print(\"number is too big/small for\",n,\"bits two's complement representation\")\n",
    "else:\n",
    "    tcr=[0]*int(n)\n",
    "    binary=bin(abs(int(b)))[2:]\n",
    "    offset=int(n)-len(binary)\n",
    "    for i in range(len(binary)):\n",
    "        if binary[i]=='0':\n",
    "            tcr[i+offset]=0\n",
    "        else:\n",
    "            tcr[i+offset]=1\n",
    "    if(int(b)>0):\n",
    "        s=''\n",
    "        for i in tcr:\n",
    "            s=s+str(i)\n",
    "        print(s)\n",
    "    else:\n",
    "        print(tcr)\n",
    "        for i in range(int(n)):\n",
    "            if tcr[i]==0:\n",
    "                tcr[i]=1\n",
    "            else:\n",
    "                tcr[i]=0\n",
    "        print(tcr)\n",
    "        for i in range(int(n)):\n",
    "            if tcr[int(n)-1-i]==0:\n",
    "                tcr[int(n)-1-i]=1\n",
    "                break\n",
    "            else :\n",
    "                tcr[int(n)-1-i]=0\n",
    "        s=''\n",
    "        for i in tcr:\n",
    "            s=s+str(i)\n",
    "        print(s)"
   ]
  },
  {
   "cell_type": "code",
   "execution_count": 16,
   "metadata": {},
   "outputs": [
    {
     "name": "stdout",
     "output_type": "stream",
     "text": [
      "this problem will conver two's complement representation to decimal number\n",
      "enter two's complement representation10010001\n",
      "-111\n"
     ]
    }
   ],
   "source": [
    "## this one will be easy to understand after next week python note\n",
    "print(\"this problem will conver two's complement representation to decimal number\")\n",
    "b=input(\"enter two's complement representation\")\n",
    "if b[0]=='0':\n",
    "    print(int(b,2))\n",
    "else:\n",
    "    tcr=[0]*len(b)\n",
    "    for i in range(len(b)):\n",
    "        if b[i]=='0':\n",
    "            tcr[i]=0\n",
    "        else :\n",
    "            tcr[i]=1\n",
    "    for i in range(len(b)):\n",
    "        if tcr[i]==0:\n",
    "            tcr[i]=1\n",
    "        else:\n",
    "            tcr[i]=0\n",
    "    for i in range(len(b)):\n",
    "        if tcr[len(b)-1-i]==0:\n",
    "            tcr[len(b)-1-i]=1\n",
    "            break\n",
    "        else :\n",
    "            tcr[len(b)-1-i]=0\n",
    "    s=''\n",
    "    for i in tcr:\n",
    "        s=s+str(i)\n",
    "    print(-int(s,2))"
   ]
  },
  {
   "cell_type": "code",
   "execution_count": 68,
   "metadata": {},
   "outputs": [
    {
     "data": {
      "text/plain": [
       "'-0b1010100'"
      ]
     },
     "execution_count": 68,
     "metadata": {},
     "output_type": "execute_result"
    }
   ],
   "source": [
    "bin(-84)"
   ]
  }
 ],
 "metadata": {
  "kernelspec": {
   "display_name": "Python 3",
   "language": "python",
   "name": "python3"
  },
  "language_info": {
   "codemirror_mode": {
    "name": "ipython",
    "version": 3
   },
   "file_extension": ".py",
   "mimetype": "text/x-python",
   "name": "python",
   "nbconvert_exporter": "python",
   "pygments_lexer": "ipython3",
   "version": "3.7.3"
  }
 },
 "nbformat": 4,
 "nbformat_minor": 2
}
